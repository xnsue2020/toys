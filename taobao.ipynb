{
 "cells": [
  {
   "cell_type": "markdown",
   "metadata": {},
   "source": [
    "# Taobao 2020 Double 11 Team Competition"
   ]
  },
  {
   "cell_type": "markdown",
   "metadata": {},
   "source": [
    "Q: What's the distribution of total gain for teams? How much does this game cost Taobao? "
   ]
  },
  {
   "cell_type": "markdown",
   "metadata": {},
   "source": [
    "## Model"
   ]
  },
  {
   "cell_type": "markdown",
   "metadata": {},
   "source": [
    "Build a simplified version of the game. \n",
    "The following are my conjectures:\n",
    "- Taobao creates an illusion of winning: teams win and lose like a pendulum, but in the end gain very few\n",
    "- because p_s = e_s + e_s+1, the prices could be set high without much real cost to Taobao \n",
    "    - it only has to pay the price of the lowest stage for <50% of teams and the highest price for very few teams \n",
    "\n",
    "Parameters:\n",
    "- N: total number of teams in this game\n",
    "    - In 2019, the active users of Taobao is 0.65 billion.\n",
    "- mu_i: quality of each team i follows a Pareto distribution with parameter alpha\n",
    "    - i.e., mu_i ~ Pareto(alpha)\n",
    "    - the realized popularity of team i changes daily: popular_i ~ Normal(mu_i, 0.5)\n",
    "- S: total number of stages of the game\n",
    "    - total number of days played = S+1\n",
    "- e_s: entry fee at stage s, \\[0, S\\], which is parameterized as follows\n",
    "    - e_s = 2**(s)-1, so that e_0=0, e_1=1, e_2=3\n",
    "- p_s: price for winners at stage s\n",
    "    - p_s = e_s + e_s+1 (specified by Taobao)\n",
    "\n",
    "Rules:\n",
    "- each team pays entry fee to enter the game\n",
    "- teams of the same stage are matched randomly \n",
    "- winners of stage s proceed to min{s+1, S}\n",
    "- losers of stage s retreat to max{s-1, 0}\n",
    "- teams not matched are set to win by default\n"
   ]
  },
  {
   "cell_type": "markdown",
   "metadata": {},
   "source": [
    "## Simulation"
   ]
  },
  {
   "cell_type": "code",
   "execution_count": 44,
   "metadata": {},
   "outputs": [],
   "source": [
    "import numpy as np\n",
    "import pandas as pd\n",
    "import random\n",
    "from scipy.stats import pareto, norm\n"
   ]
  },
  {
   "cell_type": "code",
   "execution_count": 180,
   "metadata": {},
   "outputs": [
    {
     "data": {
      "text/html": [
       "<div>\n",
       "<style scoped>\n",
       "    .dataframe tbody tr th:only-of-type {\n",
       "        vertical-align: middle;\n",
       "    }\n",
       "\n",
       "    .dataframe tbody tr th {\n",
       "        vertical-align: top;\n",
       "    }\n",
       "\n",
       "    .dataframe thead th {\n",
       "        text-align: right;\n",
       "    }\n",
       "</style>\n",
       "<table border=\"1\" class=\"dataframe\">\n",
       "  <thead>\n",
       "    <tr style=\"text-align: right;\">\n",
       "      <th></th>\n",
       "      <th>teamID</th>\n",
       "      <th>mu</th>\n",
       "    </tr>\n",
       "  </thead>\n",
       "  <tbody>\n",
       "    <tr>\n",
       "      <th>0</th>\n",
       "      <td>1</td>\n",
       "      <td>1.261272</td>\n",
       "    </tr>\n",
       "    <tr>\n",
       "      <th>1</th>\n",
       "      <td>2</td>\n",
       "      <td>1.519387</td>\n",
       "    </tr>\n",
       "    <tr>\n",
       "      <th>2</th>\n",
       "      <td>3</td>\n",
       "      <td>2.579706</td>\n",
       "    </tr>\n",
       "    <tr>\n",
       "      <th>3</th>\n",
       "      <td>4</td>\n",
       "      <td>1.564742</td>\n",
       "    </tr>\n",
       "    <tr>\n",
       "      <th>4</th>\n",
       "      <td>5</td>\n",
       "      <td>1.127700</td>\n",
       "    </tr>\n",
       "  </tbody>\n",
       "</table>\n",
       "</div>"
      ],
      "text/plain": [
       "   teamID        mu\n",
       "0       1  1.261272\n",
       "1       2  1.519387\n",
       "2       3  2.579706\n",
       "3       4  1.564742\n",
       "4       5  1.127700"
      ]
     },
     "execution_count": 180,
     "metadata": {},
     "output_type": "execute_result"
    }
   ],
   "source": [
    "## Set parameters \n",
    "\n",
    "N = 100 #10000\n",
    "alpha = 1.5\n",
    "S = 4 # 4 or 7 in reality\n",
    "random.seed(2020)\n",
    "\n",
    "## Generate teams with endowed quality\n",
    "df = pd.Series(range(1, N+1), name='teamID').to_frame()\n",
    "df['mu'] = pareto.rvs(alpha, size=N)\n",
    "\n",
    "## Generate fees and winner prices\n",
    "e = [2**x-1 for x in range(0, S+1)]\n",
    "p = [e[x]+e[x+1] for x in range(0, S)]\n",
    "p.append(2*e[-1]) # highest price equals twice the entry fee\n",
    "\n",
    "dict_e = {i:e[i] for i in range(0, S+1)} # stage : entry fee\n",
    "dict_p = {i:p[i] for i in range(0, S+1)} # stage : winner price\n",
    "\n",
    "##======= Teams are ready =========\n",
    "\n",
    "df.head()\n"
   ]
  },
  {
   "cell_type": "code",
   "execution_count": 181,
   "metadata": {},
   "outputs": [
    {
     "data": {
      "text/html": [
       "<div>\n",
       "<style scoped>\n",
       "    .dataframe tbody tr th:only-of-type {\n",
       "        vertical-align: middle;\n",
       "    }\n",
       "\n",
       "    .dataframe tbody tr th {\n",
       "        vertical-align: top;\n",
       "    }\n",
       "\n",
       "    .dataframe thead th {\n",
       "        text-align: right;\n",
       "    }\n",
       "</style>\n",
       "<table border=\"1\" class=\"dataframe\">\n",
       "  <thead>\n",
       "    <tr style=\"text-align: right;\">\n",
       "      <th></th>\n",
       "      <th>teamID</th>\n",
       "      <th>mu</th>\n",
       "      <th>stage_0</th>\n",
       "      <th>win_0</th>\n",
       "      <th>price_0</th>\n",
       "      <th>stage_1</th>\n",
       "      <th>win_1</th>\n",
       "      <th>price_1</th>\n",
       "      <th>stage_2</th>\n",
       "      <th>win_2</th>\n",
       "      <th>price_2</th>\n",
       "      <th>stage_3</th>\n",
       "      <th>win_3</th>\n",
       "      <th>price_3</th>\n",
       "      <th>stage_4</th>\n",
       "      <th>win_4</th>\n",
       "      <th>price_4</th>\n",
       "      <th>stage_5</th>\n",
       "      <th>accum_price</th>\n",
       "    </tr>\n",
       "  </thead>\n",
       "  <tbody>\n",
       "    <tr>\n",
       "      <th>0</th>\n",
       "      <td>1</td>\n",
       "      <td>1.261272</td>\n",
       "      <td>0</td>\n",
       "      <td>0</td>\n",
       "      <td>0</td>\n",
       "      <td>0.0</td>\n",
       "      <td>0</td>\n",
       "      <td>0</td>\n",
       "      <td>0.0</td>\n",
       "      <td>0</td>\n",
       "      <td>0</td>\n",
       "      <td>0.0</td>\n",
       "      <td>0</td>\n",
       "      <td>0</td>\n",
       "      <td>0.0</td>\n",
       "      <td>0</td>\n",
       "      <td>0</td>\n",
       "      <td>0.0</td>\n",
       "      <td>0</td>\n",
       "    </tr>\n",
       "    <tr>\n",
       "      <th>1</th>\n",
       "      <td>2</td>\n",
       "      <td>1.519387</td>\n",
       "      <td>0</td>\n",
       "      <td>0</td>\n",
       "      <td>0</td>\n",
       "      <td>0.0</td>\n",
       "      <td>0</td>\n",
       "      <td>0</td>\n",
       "      <td>0.0</td>\n",
       "      <td>1</td>\n",
       "      <td>1</td>\n",
       "      <td>1.0</td>\n",
       "      <td>0</td>\n",
       "      <td>-1</td>\n",
       "      <td>0.0</td>\n",
       "      <td>1</td>\n",
       "      <td>1</td>\n",
       "      <td>1.0</td>\n",
       "      <td>1</td>\n",
       "    </tr>\n",
       "    <tr>\n",
       "      <th>2</th>\n",
       "      <td>3</td>\n",
       "      <td>2.579706</td>\n",
       "      <td>0</td>\n",
       "      <td>0</td>\n",
       "      <td>0</td>\n",
       "      <td>0.0</td>\n",
       "      <td>1</td>\n",
       "      <td>1</td>\n",
       "      <td>1.0</td>\n",
       "      <td>0</td>\n",
       "      <td>-1</td>\n",
       "      <td>0.0</td>\n",
       "      <td>0</td>\n",
       "      <td>0</td>\n",
       "      <td>0.0</td>\n",
       "      <td>1</td>\n",
       "      <td>1</td>\n",
       "      <td>1.0</td>\n",
       "      <td>1</td>\n",
       "    </tr>\n",
       "    <tr>\n",
       "      <th>3</th>\n",
       "      <td>4</td>\n",
       "      <td>1.564742</td>\n",
       "      <td>0</td>\n",
       "      <td>1</td>\n",
       "      <td>1</td>\n",
       "      <td>1.0</td>\n",
       "      <td>0</td>\n",
       "      <td>-1</td>\n",
       "      <td>0.0</td>\n",
       "      <td>0</td>\n",
       "      <td>0</td>\n",
       "      <td>0.0</td>\n",
       "      <td>0</td>\n",
       "      <td>0</td>\n",
       "      <td>0.0</td>\n",
       "      <td>0</td>\n",
       "      <td>0</td>\n",
       "      <td>0.0</td>\n",
       "      <td>0</td>\n",
       "    </tr>\n",
       "    <tr>\n",
       "      <th>4</th>\n",
       "      <td>5</td>\n",
       "      <td>1.127700</td>\n",
       "      <td>0</td>\n",
       "      <td>1</td>\n",
       "      <td>1</td>\n",
       "      <td>1.0</td>\n",
       "      <td>0</td>\n",
       "      <td>-1</td>\n",
       "      <td>0.0</td>\n",
       "      <td>0</td>\n",
       "      <td>0</td>\n",
       "      <td>0.0</td>\n",
       "      <td>0</td>\n",
       "      <td>0</td>\n",
       "      <td>0.0</td>\n",
       "      <td>0</td>\n",
       "      <td>0</td>\n",
       "      <td>0.0</td>\n",
       "      <td>0</td>\n",
       "    </tr>\n",
       "  </tbody>\n",
       "</table>\n",
       "</div>"
      ],
      "text/plain": [
       "   teamID        mu  stage_0  win_0  price_0  stage_1  win_1  price_1  \\\n",
       "0       1  1.261272        0      0        0      0.0      0        0   \n",
       "1       2  1.519387        0      0        0      0.0      0        0   \n",
       "2       3  2.579706        0      0        0      0.0      1        1   \n",
       "3       4  1.564742        0      1        1      1.0      0       -1   \n",
       "4       5  1.127700        0      1        1      1.0      0       -1   \n",
       "\n",
       "   stage_2  win_2  price_2  stage_3  win_3  price_3  stage_4  win_4  price_4  \\\n",
       "0      0.0      0        0      0.0      0        0      0.0      0        0   \n",
       "1      0.0      1        1      1.0      0       -1      0.0      1        1   \n",
       "2      1.0      0       -1      0.0      0        0      0.0      1        1   \n",
       "3      0.0      0        0      0.0      0        0      0.0      0        0   \n",
       "4      0.0      0        0      0.0      0        0      0.0      0        0   \n",
       "\n",
       "   stage_5  accum_price  \n",
       "0      0.0            0  \n",
       "1      1.0            1  \n",
       "2      1.0            1  \n",
       "3      0.0            0  \n",
       "4      0.0            0  "
      ]
     },
     "execution_count": 181,
     "metadata": {},
     "output_type": "execute_result"
    }
   ],
   "source": [
    "## ========= start of the game ===============\n",
    "\n",
    "# all the teams start from stage 0 on day 0\n",
    "# stage will be updated by the end of each day\n",
    "df['stage_0'] = 0\n",
    "\n",
    "for d in range(S+1): # d = 0, 1, 2, .., S \n",
    "    # generate the realization of team polularity, updating each day\n",
    "    df['popular'] = norm.rvs(df.mu, 0.5)\n",
    "    # generate a random sequance (without duplicates) for same-stage teams\n",
    "    # x: sub-group\n",
    "    df['r'] = df.groupby('stage_{0}'.format(d)).apply(lambda x: random.sample(range(1, len(x)+1), len(x)))\n",
    "    df['r'] = df.groupby('stage_{0}'.format(d)).transform(lambda x: random.sample(range(1, len(x)+1), len(x)))\n",
    "    df['r'] = df.r + 0.1    # +0.1 to solve the 'round half to even' rule of python 3\n",
    "    \n",
    "    # assign group number for each pair of teams\n",
    "    df['g'] = (df.r/2).round(0).astype('int')\n",
    "    # generate winner dummy if popular = popular.max\n",
    "    df['win_{0}'.format(d)] = (df.groupby('g')['popular'].transform(max) == df.popular)*1\n",
    "    # entry fee and potential price (depends on current gaming stage)\n",
    "    df['e'] = df['stage_{0}'.format(d)].map(dict_e)\n",
    "    df['p'] = df['stage_{0}'.format(d)].map(dict_p)\n",
    "    # net price (profit) for each team on day d\n",
    "    df['price_{0}'.format(d)] = df.p*df['win_{0}'.format(d)] - df.e\n",
    "    \n",
    "    # update 'stage' for the next day: gen stage_2 = stage_1+1 if win\n",
    "    df['w'] = df['win_{0}'.format(d)]\n",
    "    df['s'] = df['stage_{0}'.format(d)]\n",
    "    df.loc[df.w==1, 'stage_{0}'.format(d+1)] = df['stage_{0}'.format(d)] + 1\n",
    "    df.loc[df.w==0, 'stage_{0}'.format(d+1)] = df['stage_{0}'.format(d)] - 1\n",
    "    df['ss'] = df['stage_{0}'.format(d+1)]\n",
    "    df.loc[df.ss>S, 'stage_{0}'.format(d+1)] = df['stage_{0}'.format(d)] # max = S\n",
    "    df.loc[df.ss<0, 'stage_{0}'.format(d+1)] = df['stage_{0}'.format(d)] # min = 0\n",
    "\n",
    "## ======= end of the game ===========\n",
    "\n",
    "# drop intermediate vars\n",
    "df.drop(['popular', 'r', 'g', 'e', 'p', 'w', 's', 'ss'], axis=1, inplace=True)\n",
    "# create accumulated prices for each team\n",
    "df['accum_price'] = df.filter(regex='^price', axis=1).sum(axis=1)\n",
    "\n",
    "df.head()\n"
   ]
  },
  {
   "cell_type": "markdown",
   "metadata": {},
   "source": [
    "## Result"
   ]
  },
  {
   "cell_type": "code",
   "execution_count": 149,
   "metadata": {},
   "outputs": [],
   "source": [
    "import seaborn as sns\n",
    "import matplotlib.pyplot as plt"
   ]
  },
  {
   "cell_type": "code",
   "execution_count": 182,
   "metadata": {},
   "outputs": [
    {
     "name": "stderr",
     "output_type": "stream",
     "text": [
      "/anaconda3/lib/python3.7/site-packages/scipy/stats/stats.py:1713: FutureWarning: Using a non-tuple sequence for multidimensional indexing is deprecated; use `arr[tuple(seq)]` instead of `arr[seq]`. In the future this will be interpreted as an array index, `arr[np.array(seq)]`, which will result either in an error or a different result.\n",
      "  return np.add.reduce(sorted[indexer] * weights, axis=axis) / sumval\n"
     ]
    },
    {
     "data": {
      "image/png": "[encoded data removed]",
      "text/plain": [
       "<Figure size 864x288 with 2 Axes>"
      ]
     },
     "metadata": {
      "needs_background": "light"
     },
     "output_type": "display_data"
    }
   ],
   "source": [
    "## distribution of team quality and accumulated prices won\n",
    "fig, ax = plt.subplots(nrows=1, ncols=2, figsize=(12, 4) )\n",
    "sns.distplot(df.mu, hist=True, ax=ax[0])\n",
    "ax[0].set_title('Team popularity')\n",
    "sns.distplot(df.accum_price, ax=ax[1])\n",
    "ax[1].set_title('Accumulated prices won by team')\n",
    "plt.show()\n"
   ]
  },
  {
   "cell_type": "code",
   "execution_count": 183,
   "metadata": {},
   "outputs": [
    {
     "data": {
      "text/plain": [
       "0     0.51\n",
       "1     0.36\n",
       "11    0.11\n",
       "41    0.02\n",
       "Name: accum_price, dtype: float64"
      ]
     },
     "metadata": {},
     "output_type": "display_data"
    },
    {
     "name": "stdout",
     "output_type": "stream",
     "text": [
      "{0: 0, 1: 1, 2: 3, 3: 7, 4: 15}\n",
      "{0: 1, 1: 4, 2: 10, 3: 22, 4: 30}\n"
     ]
    }
   ],
   "source": [
    "## the share of 'empty joy' teams\n",
    "display(df.accum_price.value_counts(normalize=True))\n",
    "\n",
    "# display the entry fee and prices for each stage\n",
    "print(dict_e)\n",
    "print(dict_p)"
   ]
  },
  {
   "cell_type": "code",
   "execution_count": 184,
   "metadata": {},
   "outputs": [
    {
     "data": {
      "text/plain": [
       "239"
      ]
     },
     "execution_count": 184,
     "metadata": {},
     "output_type": "execute_result"
    }
   ],
   "source": [
    "## Simulated total cost of Taobao\n",
    "df.accum_price.sum()\n"
   ]
  },
  {
   "cell_type": "code",
   "execution_count": 193,
   "metadata": {},
   "outputs": [
    {
     "data": {
      "image/png": "[encoded data removed]",
      "text/plain": [
       "<Figure size 432x288 with 1 Axes>"
      ]
     },
     "metadata": {
      "needs_background": "light"
     },
     "output_type": "display_data"
    }
   ],
   "source": [
    "## how about the number of times teams win?\n",
    "df['accum_win'] = df.filter(regex='^win', axis=1).sum(axis=1)\n",
    "sns.distplot(df.accum_win, bins=S+2, norm_hist=True, kde=False)\n",
    "plt.xlabel('Number of wins out of %.0f days' %(S+1))\n",
    "plt.show()"
   ]
  },
  {
   "cell_type": "markdown",
   "metadata": {},
   "source": [
    "Analysis:\n",
    "- The distribution of prices is more dispersed than the distribution of winning times.\n",
    "    - e.g., 25% of teams did not win a game while 51% of teams did not receive any prices."
   ]
  },
  {
   "cell_type": "markdown",
   "metadata": {},
   "source": []
  },
  {
   "cell_type": "markdown",
   "metadata": {},
   "source": [
    "## Difference from reality"
   ]
  },
  {
   "cell_type": "markdown",
   "metadata": {},
   "source": [
    "The above toy model can be improved to incorporate more features in reality.\n",
    "- it allows teams of different sizes (2-5 members) to enter different pools\n",
    "- stages depends on accumulated prices instead of previous win/lose status\n",
    "- the real prices for each stage:\n",
    "- the real enty fee for each stage: \n",
    "- each team starts with an initial endownment\n"
   ]
  },
  {
   "cell_type": "code",
   "execution_count": null,
   "metadata": {},
   "outputs": [],
   "source": []
  }
 ],
 "metadata": {
  "kernelspec": {
   "display_name": "Python 3",
   "language": "python",
   "name": "python3"
  },
  "language_info": {
   "codemirror_mode": {
    "name": "ipython",
    "version": 3
   },
   "file_extension": ".py",
   "mimetype": "text/x-python",
   "name": "python",
   "nbconvert_exporter": "python",
   "pygments_lexer": "ipython3",
   "version": "3.7.7"
  },
  "toc": {
   "base_numbering": 1,
   "nav_menu": {},
   "number_sections": true,
   "sideBar": true,
   "skip_h1_title": true,
   "title_cell": "Table of Contents",
   "title_sidebar": "Contents",
   "toc_cell": false,
   "toc_position": {},
   "toc_section_display": true,
   "toc_window_display": true
  }
 },
 "nbformat": 4,
 "nbformat_minor": 2
}
