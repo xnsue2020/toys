{
 "cells": [
  {
   "cell_type": "markdown",
   "metadata": {},
   "source": [
    "This notebook contains simulations to illustrate puzzles and doubts."
   ]
  },
  {
   "cell_type": "markdown",
   "metadata": {},
   "source": [
    "## Expected number of flips\n",
    "- Q: What is the expected number of fair coin flips to get two consecutive heads?\n",
    "- Ans: 6"
   ]
  },
  {
   "cell_type": "code",
   "execution_count": 1,
   "metadata": {},
   "outputs": [],
   "source": [
    "import numpy as np"
   ]
  },
  {
   "cell_type": "code",
   "execution_count": 8,
   "metadata": {},
   "outputs": [
    {
     "name": "stdout",
     "output_type": "stream",
     "text": [
      "Number of flips: 6\n"
     ]
    }
   ],
   "source": [
    "## Count the number of flips to get HH for one trial\n",
    "\n",
    "count = 0 # number of flips\n",
    "hh = 0    # number of consecutive heads\n",
    "\n",
    "while hh < 2:\n",
    "    # flip the coin and count\n",
    "    count += 1\n",
    "    # get the result: 1=Head, 0=Tail\n",
    "    r = np.random.binomial(1, 0.5)\n",
    "    if r == 1:\n",
    "        hh += 1\n",
    "    elif r == 0 and hh ==1:\n",
    "        hh -= 1\n",
    "        \n",
    "print('Number of flips: %d' % count)"
   ]
  },
  {
   "cell_type": "code",
   "execution_count": 11,
   "metadata": {},
   "outputs": [
    {
     "data": {
      "text/plain": [
       "[3, 3, 3, 2, 3, 3, 2, 4, 7, 7]"
      ]
     },
     "execution_count": 11,
     "metadata": {},
     "output_type": "execute_result"
    }
   ],
   "source": [
    "## Average number of flips to get HH for n trials\n",
    "\n",
    "def flips_2h(n=1):\n",
    "    '''Returns a list of size n. \n",
    "    Each element is the number of flips to get 2 consecutive heads. '''\n",
    "    l = [] \n",
    "    \n",
    "    for i in range(n):\n",
    "        count = 0\n",
    "        hh = 0\n",
    "        \n",
    "        while hh < 2:\n",
    "            count += 1\n",
    "            r = np.random.binomial(1, 0.5)\n",
    "            if r == 1:\n",
    "                hh += 1\n",
    "            elif r == 0 and hh == 1:\n",
    "                hh -= 1\n",
    "            \n",
    "        l.append(count)\n",
    "    \n",
    "    return l \n",
    "\n",
    "flips_2h(10)"
   ]
  },
  {
   "cell_type": "markdown",
   "metadata": {},
   "source": [
    "According to the Law of Large Numbers, the average number of flips converges to its expected value as n becomes large."
   ]
  },
  {
   "cell_type": "code",
   "execution_count": 15,
   "metadata": {},
   "outputs": [
    {
     "name": "stdout",
     "output_type": "stream",
     "text": [
      "Averge number of flips with 1000 trials: 6.17\n"
     ]
    }
   ],
   "source": [
    "print('Averge number of flips with 1000 trials: %.2f' % np.mean(flips_2h(1000)))"
   ]
  },
  {
   "cell_type": "code",
   "execution_count": null,
   "metadata": {},
   "outputs": [],
   "source": []
  }
 ],
 "metadata": {
  "kernelspec": {
   "display_name": "Python 3",
   "language": "python",
   "name": "python3"
  },
  "language_info": {
   "codemirror_mode": {
    "name": "ipython",
    "version": 3
   },
   "file_extension": ".py",
   "mimetype": "text/x-python",
   "name": "python",
   "nbconvert_exporter": "python",
   "pygments_lexer": "ipython3",
   "version": "3.7.7"
  },
  "toc": {
   "base_numbering": 1,
   "nav_menu": {},
   "number_sections": true,
   "sideBar": true,
   "skip_h1_title": false,
   "title_cell": "Table of Contents",
   "title_sidebar": "Contents",
   "toc_cell": false,
   "toc_position": {},
   "toc_section_display": true,
   "toc_window_display": false
  }
 },
 "nbformat": 4,
 "nbformat_minor": 4
}
