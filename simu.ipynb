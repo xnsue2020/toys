{
 "cells": [
  {
   "cell_type": "markdown",
   "metadata": {},
   "source": [
    "This notebook contains simulations to illustrate puzzles and doubts.\n",
    "\n",
    "Todo list:\n",
    "- Does standardization change the significance of coefficients of linear regressions?"
   ]
  },
  {
   "cell_type": "markdown",
   "metadata": {},
   "source": [
    "## Expected number of flips\n",
    "- Q: What is the expected number of fair coin flips to get two consecutive heads?\n",
    "- Ans: 6"
   ]
  },
  {
   "cell_type": "code",
   "execution_count": 1,
   "metadata": {},
   "outputs": [],
   "source": [
    "import numpy as np"
   ]
  },
  {
   "cell_type": "code",
   "execution_count": 8,
   "metadata": {},
   "outputs": [
    {
     "name": "stdout",
     "output_type": "stream",
     "text": [
      "Number of flips: 6\n"
     ]
    }
   ],
   "source": [
    "## Count the number of flips to get HH for one trial\n",
    "\n",
    "count = 0 # number of flips\n",
    "hh = 0    # number of consecutive heads\n",
    "\n",
    "while hh < 2:\n",
    "    # flip the coin and count\n",
    "    count += 1\n",
    "    # get the result: 1=Head, 0=Tail\n",
    "    r = np.random.binomial(1, 0.5)\n",
    "    if r == 1:\n",
    "        hh += 1\n",
    "    elif r == 0 and hh ==1:\n",
    "        hh -= 1\n",
    "        \n",
    "print('Number of flips: %d' % count)"
   ]
  },
  {
   "cell_type": "code",
   "execution_count": 11,
   "metadata": {},
   "outputs": [
    {
     "data": {
      "text/plain": [
       "[3, 3, 3, 2, 3, 3, 2, 4, 7, 7]"
      ]
     },
     "execution_count": 11,
     "metadata": {},
     "output_type": "execute_result"
    }
   ],
   "source": [
    "## Average number of flips to get HH for n trials\n",
    "\n",
    "def flips_2h(n=1):\n",
    "    '''Returns a list of size n. \n",
    "    Each element is the number of flips to get 2 consecutive heads. '''\n",
    "    l = [] \n",
    "    \n",
    "    for i in range(n):\n",
    "        count = 0\n",
    "        hh = 0\n",
    "        \n",
    "        while hh < 2:\n",
    "            count += 1\n",
    "            r = np.random.binomial(1, 0.5)\n",
    "            if r == 1:\n",
    "                hh += 1\n",
    "            elif r == 0 and hh == 1:\n",
    "                hh -= 1\n",
    "            \n",
    "        l.append(count)\n",
    "    \n",
    "    return l \n",
    "\n",
    "flips_2h(10)"
   ]
  },
  {
   "cell_type": "markdown",
   "metadata": {},
   "source": [
    "According to the Law of Large Numbers, the average number of flips converges to its expected value as n becomes large."
   ]
  },
  {
   "cell_type": "code",
   "execution_count": 15,
   "metadata": {},
   "outputs": [
    {
     "name": "stdout",
     "output_type": "stream",
     "text": [
      "Averge number of flips with 1000 trials: 6.17\n"
     ]
    }
   ],
   "source": [
    "print('Averge number of flips with 1000 trials: %.2f' % np.mean(flips_2h(1000)))"
   ]
  },
  {
   "cell_type": "markdown",
   "metadata": {},
   "source": [
    "**Variations:**\n",
    "- what happens if we change 2 consecutive Heads to k?\n",
    "- recursive way of writing code? similar to Hanoi Tower .\n"
   ]
  },
  {
   "cell_type": "markdown",
   "metadata": {},
   "source": [
    "## Correlation of Error Terms\n",
    "- In linear regressions, error terms are assumed to be i.i.d. \n",
    "- Correlation of error terms will lead to smaller estimated standard error. And coefficients are more likely to be statistically significant.\n",
    "- E.g., accidentally double the data (n -> 2n)\n",
    "- This simulation tries to illustrate how estimated coef. and Std.Err changes when: \n",
    "    1. copy the sample n many times\n",
    "    2. bootstrap the sample many times\n",
    "    \n",
    "True model: `Y = 2X + e`"
   ]
  },
  {
   "cell_type": "code",
   "execution_count": 93,
   "metadata": {},
   "outputs": [],
   "source": [
    "import numpy as np\n",
    "import statsmodels.api as sm\n",
    "from statsmodels.iolib.summary2 import summary_col\n",
    "import random"
   ]
  },
  {
   "cell_type": "code",
   "execution_count": 102,
   "metadata": {},
   "outputs": [
    {
     "name": "stdout",
     "output_type": "stream",
     "text": [
      "(100,) (100,)\n",
      "(100, 2)\n"
     ]
    }
   ],
   "source": [
    "## DGP\n",
    "\n",
    "random.seed(20201208)\n",
    "\n",
    "n = 100\n",
    "mu, sigma = 9, 3\n",
    "sigma_e = 4\n",
    "scale = 10\n",
    "\n",
    "x = np.random.normal(mu, sigma, n)\n",
    "e = np.random.normal(0, sigma_e, size=n)\n",
    "y = 2*x + e\n",
    "\n",
    "print(x.shape, y.shape)"
   ]
  },
  {
   "cell_type": "code",
   "execution_count": null,
   "metadata": {},
   "outputs": [],
   "source": [
    "## Model: benchmark OLS\n",
    "\n",
    "X = sm.add_constant(x)\n",
    "ols = sm.OLS(y, x).fit()\n",
    "\n",
    "print(X.shape)"
   ]
  },
  {
   "cell_type": "code",
   "execution_count": 103,
   "metadata": {},
   "outputs": [
    {
     "name": "stdout",
     "output_type": "stream",
     "text": [
      "(1000,) (1000,)\n"
     ]
    }
   ],
   "source": [
    "## Duplicate the sample: copy - paste\n",
    "\n",
    "x_dup = np.repeat(x, scale)\n",
    "y_dup = np.repeat(y, scale)\n",
    "\n",
    "print(y_dup.shape, x_dup.shape)\n",
    "\n",
    "X = sm.add_constant(x_dup) # keep same var name\n",
    "dup = sm.OLS(y_dup, X).fit()\n"
   ]
  },
  {
   "cell_type": "code",
   "execution_count": 104,
   "metadata": {},
   "outputs": [
    {
     "name": "stdout",
     "output_type": "stream",
     "text": [
      "(1000,) (1000,)\n"
     ]
    }
   ],
   "source": [
    "## Draw bootstrap sample\n",
    "\n",
    "# Trick: bootstrap (y, x) pair using index\n",
    "index = np.arange(len(sample))\n",
    "index_bs = np.random.choice(index, scale*len(index))\n",
    "\n",
    "y_bs = y[index_bs]\n",
    "x_bs = x[index_bs]\n",
    "\n",
    "print(y_bs.shape, x_bs.shape)\n",
    "\n",
    "X = sm.add_constant(x_bs)\n",
    "bs = sm.OLS(y_bs, X).fit()\n"
   ]
  },
  {
   "cell_type": "code",
   "execution_count": 105,
   "metadata": {},
   "outputs": [
    {
     "data": {
      "text/html": [
       "<table class=\"simpletable\">\n",
       "<tr>\n",
       "         <td></td>           <th>OLS</th>   <th>Duplicate</th> <th>Bootstrap</th>\n",
       "</tr>\n",
       "<tr>\n",
       "  <th>x1</th>             <td>1.931***</td> <td>1.776***</td>  <td>1.782***</td> \n",
       "</tr>\n",
       "<tr>\n",
       "  <th></th>                <td>(0.038)</td>  <td>(0.037)</td>   <td>(0.036)</td> \n",
       "</tr>\n",
       "<tr>\n",
       "  <th>const</th>              <td></td>     <td>1.578***</td>  <td>1.672***</td> \n",
       "</tr>\n",
       "<tr>\n",
       "  <th></th>                   <td></td>      <td>(0.359)</td>   <td>(0.354)</td> \n",
       "</tr>\n",
       "<tr>\n",
       "  <th>R-squared</th>        <td>0.962</td>    <td>0.697</td>     <td>0.706</td>  \n",
       "</tr>\n",
       "<tr>\n",
       "  <th>R-squared Adj.</th>   <td>0.962</td>    <td>0.696</td>     <td>0.706</td>  \n",
       "</tr>\n",
       "<tr>\n",
       "  <th>N</th>                 <td>100</td>     <td>1000</td>      <td>1000</td>   \n",
       "</tr>\n",
       "</table>"
      ],
      "text/plain": [
       "<class 'statsmodels.iolib.summary2.Summary'>\n",
       "\"\"\"\n",
       "\n",
       "===========================================\n",
       "                 OLS    Duplicate Bootstrap\n",
       "-------------------------------------------\n",
       "x1             1.931*** 1.776***  1.782*** \n",
       "               (0.038)  (0.037)   (0.036)  \n",
       "const                   1.578***  1.672*** \n",
       "                        (0.359)   (0.354)  \n",
       "R-squared      0.962    0.697     0.706    \n",
       "R-squared Adj. 0.962    0.696     0.706    \n",
       "N              100      1000      1000     \n",
       "===========================================\n",
       "Standard errors in parentheses.\n",
       "* p<.1, ** p<.05, ***p<.01\n",
       "\"\"\""
      ]
     },
     "execution_count": 105,
     "metadata": {},
     "output_type": "execute_result"
    }
   ],
   "source": [
    "## Display results\n",
    "\n",
    "summary_col([ols, dup, bs], \n",
    "            model_names=['OLS', 'Duplicate', 'Bootstrap'],\n",
    "            stars=True, float_format='%0.3f',\n",
    "            regressor_order=['x1', 'const'],\n",
    "            drop_omitted=True,\n",
    "            info_dict={'N':lambda x: \"{0:d}\".format(int(x.nobs))})"
   ]
  },
  {
   "cell_type": "markdown",
   "metadata": {},
   "source": [
    "**Findings**\n",
    "- When the error terms have relatively small standard deviation, e.g., e ~ N(0,1), the estimated Std.Err of beta1 becomes smaller when n increases.\n",
    "- When the standard deviation of error terms increases, e ~ N(0,2), the estimated Std.Err of beta1 becomes similar to the original sample when n increases.\n",
    "- The model fit `R2` becomes worse with duplicated obs. and with more noise (sigma_e).\n",
    "- The Duplicate and Bootstrap sample return very similar results.\n",
    "- Q: for unbalanced data, is it good to enlarge the minority group or shrink the majority group?"
   ]
  },
  {
   "cell_type": "markdown",
   "metadata": {},
   "source": [
    "## Next problem"
   ]
  },
  {
   "cell_type": "code",
   "execution_count": null,
   "metadata": {},
   "outputs": [],
   "source": []
  },
  {
   "cell_type": "code",
   "execution_count": null,
   "metadata": {},
   "outputs": [],
   "source": []
  },
  {
   "cell_type": "code",
   "execution_count": null,
   "metadata": {},
   "outputs": [],
   "source": []
  },
  {
   "cell_type": "code",
   "execution_count": null,
   "metadata": {},
   "outputs": [],
   "source": []
  },
  {
   "cell_type": "code",
   "execution_count": null,
   "metadata": {},
   "outputs": [],
   "source": []
  },
  {
   "cell_type": "code",
   "execution_count": null,
   "metadata": {},
   "outputs": [],
   "source": []
  },
  {
   "cell_type": "code",
   "execution_count": null,
   "metadata": {},
   "outputs": [],
   "source": []
  }
 ],
 "metadata": {
  "kernelspec": {
   "display_name": "Python 3",
   "language": "python",
   "name": "python3"
  },
  "language_info": {
   "codemirror_mode": {
    "name": "ipython",
    "version": 3
   },
   "file_extension": ".py",
   "mimetype": "text/x-python",
   "name": "python",
   "nbconvert_exporter": "python",
   "pygments_lexer": "ipython3",
   "version": "3.7.7"
  },
  "toc": {
   "base_numbering": 1,
   "nav_menu": {},
   "number_sections": true,
   "sideBar": true,
   "skip_h1_title": false,
   "title_cell": "Table of Contents",
   "title_sidebar": "Contents",
   "toc_cell": false,
   "toc_position": {},
   "toc_section_display": true,
   "toc_window_display": true
  }
 },
 "nbformat": 4,
 "nbformat_minor": 4
}
