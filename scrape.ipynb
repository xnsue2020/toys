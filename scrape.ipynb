{
 "cells": [
  {
   "cell_type": "markdown",
   "metadata": {},
   "source": [
    "# Sino-Japan trade trend\n",
    "\n",
    "**Goal**\n",
    "- Download Chinese monthly exports to and imports from Japan. [website](http://english.customs.gov.cn/statics/report/monthly.html)\n",
    "- Graph the bilateral trade trend between China and Japan.\n",
    "\n",
    "**Steps**\n",
    "1. Find the .xls links per month (current year).\n",
    "    - \\<td\\>（2）Imports and Exports by Country （Region） of Origin/Destination\n",
    "2. Save the results in a dictionary SJ_year = {month: .xls link}.\n",
    "3. Go to each link in the dictionary to download data in .xls format.\n",
    "4. Load .xle files into Pandas DataFrame and plot time trends.\n",
    "\n"
   ]
  },
  {
   "cell_type": "markdown",
   "metadata": {},
   "source": [
    "## Separate Steps"
   ]
  },
  {
   "cell_type": "code",
   "execution_count": 1,
   "metadata": {},
   "outputs": [],
   "source": [
    "import requests\n",
    "from scrapy import Selector # used to parse HTML\n",
    "import re\n",
    "import os\n",
    "import pandas as pd"
   ]
  },
  {
   "cell_type": "code",
   "execution_count": 2,
   "metadata": {
    "collapsed": true
   },
   "outputs": [
    {
     "name": "stdout",
     "output_type": "stream",
     "text": [
      "['2020-02']\n",
      "['2020-03']\n",
      "['2020-04']\n",
      "['2020-05']\n",
      "['2020-06']\n",
      "['2020-07']\n",
      "['2020-08']\n",
      "['2020-09']\n",
      "['2020-10']\n",
      "['2020-11']\n",
      "['2020-12']\n"
     ]
    }
   ],
   "source": [
    "## URL with monthly url links\n",
    "url = 'http://english.customs.gov.cn/statics/report/monthly.html'\n",
    "\n",
    "## Get HTML text from website\n",
    "html = requests.get(url).content\n",
    "\n",
    "## Parse HTML\n",
    "sel = Selector(text=html)\n",
    "\n",
    "## Extract links to monthly tabs\n",
    "montabs = sel.xpath('//tbody/tr[3]//a/@href').extract()\n",
    "\n",
    "## Construct {('month', fileURL)} dict\n",
    "SJ_2020 = dict()\n",
    "\n",
    "for tab in montabs:\n",
    "    # Follow URLs of each monthly tab and get HTML text\n",
    "    link = requests.get(tab).content\n",
    "    # Parse HTML\n",
    "    selector = Selector(text=link)\n",
    "    # Find link to excel file\n",
    "    fileURL = selector.css('div.atcl-rct-ttl > a::attr(href)').extract()\n",
    "    # Extract month\n",
    "    month = [re.findall(r'\\d{4}-\\d\\d', address)[0] for address in fileURL]\n",
    "    print(month) # returns a list with 1 item\n",
    "    # Store .xls address in dictionary   \n",
    "    SJ_2020[month[0]] = fileURL[0] \n",
    "\n",
    "sorted(SJ_2020.items())  \n",
    "\n",
    "## Download .xls files\n",
    "# os.chdir('/Users/sun/Downloads')\n",
    "print('Files are downloaded in: ', os.getcwd())\n",
    "\n",
    "for month, url in SJ_2020.items():\n",
    "    file = requests.get(url.replace('\\\\', '/'))\n",
    "    with open('{}.xls'.format(month), 'wb') as f:\n",
    "        f.write(file.content)\n",
    "    "
   ]
  },
  {
   "cell_type": "code",
   "execution_count": 70,
   "metadata": {},
   "outputs": [
    {
     "name": "stdout",
     "output_type": "stream",
     "text": [
      "(2772, 4)\n"
     ]
    },
    {
     "data": {
      "text/html": [
       "<div>\n",
       "<style scoped>\n",
       "    .dataframe tbody tr th:only-of-type {\n",
       "        vertical-align: middle;\n",
       "    }\n",
       "\n",
       "    .dataframe tbody tr th {\n",
       "        vertical-align: top;\n",
       "    }\n",
       "\n",
       "    .dataframe thead th {\n",
       "        text-align: right;\n",
       "    }\n",
       "</style>\n",
       "<table border=\"1\" class=\"dataframe\">\n",
       "  <thead>\n",
       "    <tr style=\"text-align: right;\">\n",
       "      <th></th>\n",
       "      <th>Country</th>\n",
       "      <th>Exports</th>\n",
       "      <th>Imports</th>\n",
       "      <th>month</th>\n",
       "    </tr>\n",
       "  </thead>\n",
       "  <tbody>\n",
       "    <tr>\n",
       "      <th>0</th>\n",
       "      <td>NaN</td>\n",
       "      <td>1 to 2</td>\n",
       "      <td>1 to 2</td>\n",
       "      <td>2</td>\n",
       "    </tr>\n",
       "    <tr>\n",
       "      <th>1</th>\n",
       "      <td>TOTAL</td>\n",
       "      <td>2.92449e+08</td>\n",
       "      <td>2.99544e+08</td>\n",
       "      <td>2</td>\n",
       "    </tr>\n",
       "    <tr>\n",
       "      <th>2</th>\n",
       "      <td>Asia:</td>\n",
       "      <td>1.45987e+08</td>\n",
       "      <td>1.61604e+08</td>\n",
       "      <td>2</td>\n",
       "    </tr>\n",
       "    <tr>\n",
       "      <th>3</th>\n",
       "      <td>Afghanistan</td>\n",
       "      <td>78998.4</td>\n",
       "      <td>5906.92</td>\n",
       "      <td>2</td>\n",
       "    </tr>\n",
       "    <tr>\n",
       "      <th>4</th>\n",
       "      <td>Bahrian</td>\n",
       "      <td>147965</td>\n",
       "      <td>27583</td>\n",
       "      <td>2</td>\n",
       "    </tr>\n",
       "  </tbody>\n",
       "</table>\n",
       "</div>"
      ],
      "text/plain": [
       "        Country      Exports      Imports month\n",
       "0           NaN       1 to 2       1 to 2     2\n",
       "1         TOTAL  2.92449e+08  2.99544e+08     2\n",
       "2         Asia:  1.45987e+08  1.61604e+08     2\n",
       "3  Afghanistan       78998.4      5906.92     2\n",
       "4      Bahrian        147965        27583     2"
      ]
     },
     "execution_count": 70,
     "metadata": {},
     "output_type": "execute_result"
    }
   ],
   "source": [
    "## Load .xls files as Pandas DataFrame\n",
    "\n",
    "df = pd.DataFrame(columns=['Country', 'Exports', 'Imports', 'month'])\n",
    "\n",
    "for month, _ in SJ_2020.items():\n",
    "    temp = pd.read_excel('{}.xls'.format(month), skiprows=3)\n",
    "    temp = temp.filter(regex='Country|Exports|Imports', axis=1)\n",
    "    temp.columns = ['Country', 'Exports', 'Imports']\n",
    "    temp['month'] = int(month[-2:])\n",
    "    df = df.append(temp, ignore_index=True)\n",
    "\n",
    "print(df.shape)\n",
    "df.head()"
   ]
  },
  {
   "cell_type": "code",
   "execution_count": 76,
   "metadata": {},
   "outputs": [
    {
     "data": {
      "text/plain": [
       "<AxesSubplot:xlabel='month', ylabel='value'>"
      ]
     },
     "execution_count": 76,
     "metadata": {},
     "output_type": "execute_result"
    },
    {
     "data": {
      "image/png": "[encoded data removed]",
      "text/plain": [
       "<Figure size 432x288 with 1 Axes>"
      ]
     },
     "metadata": {
      "needs_background": "light"
     },
     "output_type": "display_data"
    }
   ],
   "source": [
    "import seaborn as sns\n",
    "\n",
    "japan = df[df.Country == 'Japan']\n",
    "\n",
    "# Reshape wide to long: melt\n",
    "jp = pd.melt(japan, id_vars=['Country', 'month'],\n",
    "             value_vars=['Exports', 'Imports'],\n",
    "             value_name='value')\n",
    "\n",
    "# Plot Trade values (in 1000 USD) over time\n",
    "sns.scatterplot(data=jp, x='month', y='value', hue='variable')\n"
   ]
  },
  {
   "cell_type": "code",
   "execution_count": null,
   "metadata": {},
   "outputs": [],
   "source": []
  },
  {
   "cell_type": "code",
   "execution_count": null,
   "metadata": {},
   "outputs": [],
   "source": []
  },
  {
   "cell_type": "markdown",
   "metadata": {},
   "source": [
    "## Spider"
   ]
  },
  {
   "cell_type": "code",
   "execution_count": null,
   "metadata": {},
   "outputs": [],
   "source": [
    "import scrapy\n",
    "from scrapy.crawler import CrawlerProcess\n",
    "import re"
   ]
  },
  {
   "cell_type": "code",
   "execution_count": null,
   "metadata": {},
   "outputs": [],
   "source": [
    "class trade_Spider(scrapy.Spider):\n",
    "    \n",
    "    name = 'dc_chapter_spider'\n",
    "    \n",
    "    def start_requests(self):\n",
    "        # Get HTML code from given url\n",
    "        url = 'http://english.customs.gov.cn/statics/report/monthly.html'\n",
    "        yield scrapy.Request(url= url, callback= self.parse_month)\n",
    "             \n",
    "    def parse_month(self, response):\n",
    "        # Extract a list of links\n",
    "        links = response.xpath('//tbody/tr[3]//a/@href').extract()\n",
    "        # Follow the links to the next parser\n",
    "        for url in links:\n",
    "            yield response.follow(url= url, callback= self.parse_xls)\n",
    "        \n",
    "    def parse_xls(self, response):\n",
    "        # Direct to the .xls to download\n",
    "        excels = response.css('div.atcl-rct-ttl > a::attr(href)').extract()\n",
    "        # Extract date from the .xls names\n",
    "        months = [re.findall(r'\\d{4}-\\d\\d', address)[0] for address in excels]\n",
    "        # Store .xls address in dictionary\n",
    "        for m, x in zip(months, excels):\n",
    "            SJ_2020[m] = x \n",
    "        \n",
    "        \n",
    "SJ_2020 = dict()\n",
    "\n",
    "process = CrawlerProcess()\n",
    "process.crawl(trade_Spider)\n",
    "process.start()\n",
    "\n",
    "# Print result\n",
    "sorted(SJ_2020.items())"
   ]
  },
  {
   "cell_type": "code",
   "execution_count": null,
   "metadata": {},
   "outputs": [],
   "source": []
  },
  {
   "cell_type": "markdown",
   "metadata": {},
   "source": [
    "Notes:\n",
    "\n",
    "- To avoid `ReactorNotRestartable`, Shutdown the notebook after each `process.start()` call.\n",
    "- [Speed up scrapy.](https://medium.com/better-programming/5-tips-to-build-a-faster-web-crawler-f2bbc90cf233)"
   ]
  },
  {
   "cell_type": "code",
   "execution_count": null,
   "metadata": {},
   "outputs": [],
   "source": []
  }
 ],
 "metadata": {
  "kernelspec": {
   "display_name": "Python 3",
   "language": "python",
   "name": "python3"
  },
  "language_info": {
   "codemirror_mode": {
    "name": "ipython",
    "version": 3
   },
   "file_extension": ".py",
   "mimetype": "text/x-python",
   "name": "python",
   "nbconvert_exporter": "python",
   "pygments_lexer": "ipython3",
   "version": "3.7.7"
  },
  "toc": {
   "base_numbering": 1,
   "nav_menu": {},
   "number_sections": true,
   "sideBar": true,
   "skip_h1_title": false,
   "title_cell": "Table of Contents",
   "title_sidebar": "Contents",
   "toc_cell": false,
   "toc_position": {},
   "toc_section_display": true,
   "toc_window_display": true
  }
 },
 "nbformat": 4,
 "nbformat_minor": 4
}
